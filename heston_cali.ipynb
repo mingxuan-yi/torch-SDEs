{
 "cells": [
  {
   "cell_type": "code",
   "execution_count": 2,
   "id": "e47f5bc6",
   "metadata": {},
   "outputs": [],
   "source": [
    "import os\n",
    "import numpy as np\n",
    "import matplotlib.pyplot as plt\n",
    "import torch\n",
    "from source.models_torch import Heston, roughBergomi\n",
    "from source.utils import monte_carlo_pricing, Impliedvol, implied_vol, find_vol\n",
    "import warnings\n",
    "from scipy.stats import norm\n",
    "\n",
    "warnings.filterwarnings(\"ignore\")\n",
    "\n",
    "mse_loss = torch.nn.MSELoss()"
   ]
  },
  {
   "cell_type": "code",
   "execution_count": 3,
   "id": "7dbcca83",
   "metadata": {},
   "outputs": [],
   "source": [
    "table = np.loadtxt('data.txt')\n",
    "expiration = torch.tensor(table[:, 0] /250)\n",
    "#expiration = torch.ones([36])*10\n",
    "stock_prices = torch.tensor(table[:, 1])\n",
    "strikes = torch.tensor(table[:, 2])\n",
    "y = torch.tensor(table[:, 3])"
   ]
  },
  {
   "cell_type": "code",
   "execution_count": null,
   "id": "ba73b71f",
   "metadata": {},
   "outputs": [],
   "source": []
  },
  {
   "cell_type": "code",
   "execution_count": 4,
   "id": "a56d298e",
   "metadata": {},
   "outputs": [],
   "source": [
    "s0 = 425.73\n",
    "r = 0.02\n",
    "model = Heston(r=r,\n",
    "                kappa=0.1,\n",
    "                theta=0.02,\n",
    "                sigma=0.1,\n",
    "                rho=-0.5)\n",
    "model.initialize(s0=s0, v0=0.01, lambd=0.0)\n",
    "\n",
    "\n",
    "\n",
    "heston_value = model.forward(strikes, expiration)\n"
   ]
  },
  {
   "cell_type": "code",
   "execution_count": null,
   "id": "4b9454f9",
   "metadata": {},
   "outputs": [],
   "source": []
  },
  {
   "cell_type": "code",
   "execution_count": 6,
   "id": "3bd35125",
   "metadata": {},
   "outputs": [],
   "source": [
    "# Time series\n",
    "s, v = model.simulate(expire=1.0, steps=100, num_chains=1000)"
   ]
  },
  {
   "cell_type": "code",
   "execution_count": null,
   "id": "7799b1da",
   "metadata": {},
   "outputs": [],
   "source": []
  }
 ],
 "metadata": {
  "kernelspec": {
   "display_name": "quant2",
   "language": "python",
   "name": "quant2"
  },
  "language_info": {
   "codemirror_mode": {
    "name": "ipython",
    "version": 3
   },
   "file_extension": ".py",
   "mimetype": "text/x-python",
   "name": "python",
   "nbconvert_exporter": "python",
   "pygments_lexer": "ipython3",
   "version": "3.12.4"
  }
 },
 "nbformat": 4,
 "nbformat_minor": 5
}
